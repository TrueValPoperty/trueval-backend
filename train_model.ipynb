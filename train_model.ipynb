{
 "cells": [
  {
   "cell_type": "markdown",
   "metadata": {},
   "source": [
    "# 🧠 TrueVal AI – Starter Training Notebook\n",
    "This notebook trains a simple regression model to predict property valuations using logged data."
   ]
  },
  {
   "cell_type": "code",
   "metadata": {},
   "source": [
    "# 📦 Imports\n",
    "import pandas as pd\n",
    "from sklearn.model_selection import train_test_split\n",
    "from sklearn.ensemble import RandomForestRegressor\n",
    "from sklearn.metrics import mean_absolute_error\n",
    "import joblib"
   ]
  },
  {
   "cell_type": "code",
   "metadata": {},
   "source": [
    "# 📄 Load your data (CSV or Airtable export)\n",
    "df = pd.read_csv('trueval_logs_sample.csv')  # Replace with Airtable export if needed\n",
    "df.head()"
   ]
  },
  {
   "cell_type": "code",
   "metadata": {},
   "source": [
    "# 🧹 Prepare features\n",
    "features = ['Latitude', 'Longitude', 'Beds', 'Baths', 'Postcode_score']  # Adjust to your data\n",
    "target = 'User_Estimate'\n",
    "X = df[features]\n",
    "y = df[target]\n",
    "X_train, X_test, y_train, y_test = train_test_split(X, y, test_size=0.2, random_state=42)"
   ]
  },
  {
   "cell_type": "code",
   "metadata": {},
   "source": [
    "# 🧠 Train model\n",
    "model = RandomForestRegressor(n_estimators=100, random_state=42)\n",
    "model.fit(X_train, y_train)\n",
    "preds = model.predict(X_test)\n",
    "mae = mean_absolute_error(y_test, preds)\n",
    "print(f\"MAE: {mae:.2f}\")"
   ]
  },
  {
   "cell_type": "code",
   "metadata": {},
   "source": [
    "# 💾 Save model\n",
    "joblib.dump(model, 'model.pkl')\n",
    "print('Model saved as model.pkl')"
   ]
  }
 ],
 "metadata": {
  "kernelspec": {
   "display_name": "Python 3",
   "language": "python",
   "name": "python3"
  },
  "language_info": {
   "name": "python",
   "version": ""
  }
 },
 "nbformat": 4,
 "nbformat_minor": 5
}
